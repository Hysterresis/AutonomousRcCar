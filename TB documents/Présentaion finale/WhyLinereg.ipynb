{
  "nbformat": 4,
  "nbformat_minor": 0,
  "metadata": {
    "colab": {
      "name": "WhyLinereg.ipynb",
      "provenance": [],
      "toc_visible": true
    },
    "kernelspec": {
      "name": "python3",
      "display_name": "Python 3"
    }
  },
  "cells": [
    {
      "cell_type": "code",
      "metadata": {
        "id": "Wko7_evhhBws",
        "colab_type": "code",
        "colab": {}
      },
      "source": [
        "import numpy as np\n",
        "import matplotlib.pyplot as plt"
      ],
      "execution_count": 56,
      "outputs": []
    },
    {
      "cell_type": "code",
      "metadata": {
        "id": "rjDSvq19hOc5",
        "colab_type": "code",
        "colab": {}
      },
      "source": [
        "# theta goes from 0 to 2pi\n",
        "theta = np.linspace(0.5*np.pi, np.pi, 100)\n",
        "\n",
        "# the radius of the circle\n",
        "r = np.sqrt(0.6)\n",
        "\n",
        "# compute x1 and x2\n",
        "x = r*np.cos(theta)\n",
        "y = r*np.sin(theta)"
      ],
      "execution_count": 57,
      "outputs": []
    },
    {
      "cell_type": "markdown",
      "metadata": {
        "id": "IHPBJUeMmbqL",
        "colab_type": "text"
      },
      "source": [
        "# Polyfit Deg 1"
      ]
    },
    {
      "cell_type": "code",
      "metadata": {
        "id": "f1RmUFCaiJC1",
        "colab_type": "code",
        "colab": {}
      },
      "source": [
        "coef = np.polyfit(x,y,1)\n",
        "y_poly1 = coef[0]*x + coef[1]"
      ],
      "execution_count": 66,
      "outputs": []
    },
    {
      "cell_type": "code",
      "metadata": {
        "id": "ITLrV_9fjj4f",
        "colab_type": "code",
        "colab": {
          "base_uri": "https://localhost:8080/",
          "height": 265
        },
        "outputId": "faf64bcb-8030-4751-d860-ddded504b996"
      },
      "source": [
        "# create the figure\n",
        "fig, ax = plt.subplots(1)\n",
        "ax.plot(x, y)\n",
        "ax.plot(x, y_poly1)\n",
        "ax.set_aspect(1)\n",
        "plt.show()"
      ],
      "execution_count": 67,
      "outputs": [
        {
          "output_type": "display_data",
          "data": {
            "image/png": "[encoded data removed]",
            "text/plain": [
              "<Figure size 432x288 with 1 Axes>"
            ]
          },
          "metadata": {
            "tags": [],
            "needs_background": "light"
          }
        }
      ]
    },
    {
      "cell_type": "markdown",
      "metadata": {
        "id": "dq-fQnqUmlUk",
        "colab_type": "text"
      },
      "source": [
        "# Polyfit Deg 2"
      ]
    },
    {
      "cell_type": "code",
      "metadata": {
        "id": "RToSvMSHkOVL",
        "colab_type": "code",
        "colab": {}
      },
      "source": [
        "coef = np.polyfit(x,y,2)\n",
        "y_poly2 = coef[0]*x**2 + coef[1]*x+ coef[2]"
      ],
      "execution_count": 68,
      "outputs": []
    },
    {
      "cell_type": "code",
      "metadata": {
        "id": "3K2zV6O1ldhN",
        "colab_type": "code",
        "colab": {
          "base_uri": "https://localhost:8080/",
          "height": 266
        },
        "outputId": "e7711535-6059-47cf-9cb8-a5fa8f25408a"
      },
      "source": [
        "# create the figure\n",
        "fig, ax = plt.subplots(1)\n",
        "ax.plot(x, y)\n",
        "ax.plot(x, y_poly2)\n",
        "ax.set_aspect(1)\n",
        "plt.show()"
      ],
      "execution_count": 69,
      "outputs": [
        {
          "output_type": "display_data",
          "data": {
            "image/png": "[encoded data removed]",
            "text/plain": [
              "<Figure size 432x288 with 1 Axes>"
            ]
          },
          "metadata": {
            "tags": [],
            "needs_background": "light"
          }
        }
      ]
    },
    {
      "cell_type": "markdown",
      "metadata": {
        "id": "R4Wx6lTvm0HL",
        "colab_type": "text"
      },
      "source": [
        "# Partial curve"
      ]
    },
    {
      "cell_type": "code",
      "metadata": {
        "id": "HETpoOw3m6t5",
        "colab_type": "code",
        "colab": {}
      },
      "source": [
        "x_min = x[30:]\n",
        "y_min = y[30:]\n",
        "\n",
        "coef = np.polyfit(y_min, x_min,2)\n",
        "x_min_poly2 = coef[0]*y_min**2 + coef[1]*y_min+ coef[2]"
      ],
      "execution_count": 70,
      "outputs": []
    },
    {
      "cell_type": "code",
      "metadata": {
        "id": "cc0uYvqllgKQ",
        "colab_type": "code",
        "colab": {
          "base_uri": "https://localhost:8080/",
          "height": 265
        },
        "outputId": "d5d7b71e-e8db-45c0-dafc-57df296ea5d6"
      },
      "source": [
        "# create the figure\n",
        "fig, ax = plt.subplots(1)\n",
        "ax.plot(x_min, y_min)\n",
        "ax.plot(x_min_poly2, y_min)\n",
        "ax.set_aspect(1)\n",
        "plt.show()"
      ],
      "execution_count": 71,
      "outputs": [
        {
          "output_type": "display_data",
          "data": {
            "image/png": "[encoded data removed]",
            "text/plain": [
              "<Figure size 432x288 with 1 Axes>"
            ]
          },
          "metadata": {
            "tags": [],
            "needs_background": "light"
          }
        }
      ]
    },
    {
      "cell_type": "markdown",
      "metadata": {
        "id": "AliilWrmo6vt",
        "colab_type": "text"
      },
      "source": [
        "# Straight & Curve"
      ]
    },
    {
      "cell_type": "code",
      "metadata": {
        "id": "BZs0LN7QpCRY",
        "colab_type": "code",
        "colab": {}
      },
      "source": [
        "x_SC = np.append(x_min, np.ones(10)*x_min[-1])\n",
        "y_SC = np.append(y_min, np.linspace(0,-0.5,10))\n",
        "\n",
        "coef = np.polyfit(y_SC, x_SC,2)\n",
        "x_SC_poly2 = coef[0]*y_SC**2 + coef[1]*y_SC+ coef[2]"
      ],
      "execution_count": 77,
      "outputs": []
    },
    {
      "cell_type": "code",
      "metadata": {
        "id": "_4opHKV0pyYE",
        "colab_type": "code",
        "colab": {
          "base_uri": "https://localhost:8080/",
          "height": 265
        },
        "outputId": "82f4254d-1126-49a9-a0bc-1f80632d64a3"
      },
      "source": [
        "# create the figure\n",
        "fig, ax = plt.subplots(1)\n",
        "ax.plot(x_SC, y_SC)\n",
        "ax.plot(x_SC_poly2, y_SC)\n",
        "ax.set_aspect(1)\n",
        "plt.show()"
      ],
      "execution_count": 78,
      "outputs": [
        {
          "output_type": "display_data",
          "data": {
            "image/png": "[encoded data removed]",
            "text/plain": [
              "<Figure size 432x288 with 1 Axes>"
            ]
          },
          "metadata": {
            "tags": [],
            "needs_background": "light"
          }
        }
      ]
    }
  ]
}