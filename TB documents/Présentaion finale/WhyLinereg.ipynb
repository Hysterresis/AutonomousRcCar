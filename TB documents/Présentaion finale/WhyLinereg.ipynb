{
  "nbformat": 4,
  "nbformat_minor": 0,
  "metadata": {
    "colab": {
      "name": "WhyLinereg.ipynb",
      "provenance": [],
      "toc_visible": true
    },
    "kernelspec": {
      "name": "python3",
      "display_name": "Python 3"
    }
  },
  "cells": [
    {
      "cell_type": "code",
      "metadata": {
        "id": "Wko7_evhhBws",
        "colab_type": "code",
        "colab": {}
      },
      "source": [
        "import numpy as np\n",
        "import matplotlib.pyplot as plt"
      ],
      "execution_count": 1,
      "outputs": []
    },
    {
      "cell_type": "code",
      "metadata": {
        "id": "rjDSvq19hOc5",
        "colab_type": "code",
        "colab": {}
      },
      "source": [
        "# theta goes from 0 to 2pi\n",
        "theta = np.linspace(0.5*np.pi, np.pi, 100)\n",
        "\n",
        "# the radius of the circle\n",
        "r = np.sqrt(2000)\n",
        "\n",
        "# compute x1 and x2\n",
        "x = r*np.cos(theta)\n",
        "y = r*np.sin(theta)"
      ],
      "execution_count": 2,
      "outputs": []
    },
    {
      "cell_type": "markdown",
      "metadata": {
        "id": "IHPBJUeMmbqL",
        "colab_type": "text"
      },
      "source": [
        "# Polyfit Deg 1"
      ]
    },
    {
      "cell_type": "code",
      "metadata": {
        "id": "f1RmUFCaiJC1",
        "colab_type": "code",
        "colab": {}
      },
      "source": [
        "coef = np.polyfit(x,y,1)\n",
        "y_poly1 = coef[0]*x + coef[1]"
      ],
      "execution_count": 3,
      "outputs": []
    },
    {
      "cell_type": "code",
      "metadata": {
        "id": "ITLrV_9fjj4f",
        "colab_type": "code",
        "colab": {
          "base_uri": "https://localhost:8080/",
          "height": 265
        },
        "outputId": "50cde2a1-161d-4857-ca69-8509bb259435"
      },
      "source": [
        "# create the figure\n",
        "fig, ax = plt.subplots(1)\n",
        "ax.plot(x, y)\n",
        "ax.plot(x, y_poly1)\n",
        "ax.set_aspect(1)\n",
        "plt.show()"
      ],
      "execution_count": 4,
      "outputs": [
        {
          "output_type": "display_data",
          "data": {
            "image/png": "[encoded data removed]",
            "text/plain": [
              "<Figure size 432x288 with 1 Axes>"
            ]
          },
          "metadata": {
            "tags": [],
            "needs_background": "light"
          }
        }
      ]
    },
    {
      "cell_type": "markdown",
      "metadata": {
        "id": "dq-fQnqUmlUk",
        "colab_type": "text"
      },
      "source": [
        "# Polyfit Deg 2"
      ]
    },
    {
      "cell_type": "code",
      "metadata": {
        "id": "RToSvMSHkOVL",
        "colab_type": "code",
        "colab": {}
      },
      "source": [
        "coef = np.polyfit(x,y,2)\n",
        "y_poly2 = coef[0]*x**2 + coef[1]*x+ coef[2]"
      ],
      "execution_count": 5,
      "outputs": []
    },
    {
      "cell_type": "code",
      "metadata": {
        "id": "3K2zV6O1ldhN",
        "colab_type": "code",
        "colab": {
          "base_uri": "https://localhost:8080/",
          "height": 265
        },
        "outputId": "2b5de270-4720-4aa4-fe6f-9b53b7fc3cf2"
      },
      "source": [
        "# create the figure\n",
        "fig, ax = plt.subplots(1)\n",
        "ax.plot(x, y)\n",
        "ax.plot(x, y_poly2)\n",
        "ax.set_aspect(1)\n",
        "plt.show()"
      ],
      "execution_count": 6,
      "outputs": [
        {
          "output_type": "display_data",
          "data": {
            "image/png": "[encoded data removed]",
            "text/plain": [
              "<Figure size 432x288 with 1 Axes>"
            ]
          },
          "metadata": {
            "tags": [],
            "needs_background": "light"
          }
        }
      ]
    },
    {
      "cell_type": "markdown",
      "metadata": {
        "id": "R4Wx6lTvm0HL",
        "colab_type": "text"
      },
      "source": [
        "# Partial curve"
      ]
    },
    {
      "cell_type": "code",
      "metadata": {
        "id": "HETpoOw3m6t5",
        "colab_type": "code",
        "colab": {}
      },
      "source": [
        "x_min = x[30:]\n",
        "y_min = y[30:]\n",
        "\n",
        "coef = np.polyfit(y_min, x_min,2)\n",
        "x_min_poly2 = coef[0]*y_min**2 + coef[1]*y_min+ coef[2]"
      ],
      "execution_count": 7,
      "outputs": []
    },
    {
      "cell_type": "code",
      "metadata": {
        "id": "cc0uYvqllgKQ",
        "colab_type": "code",
        "colab": {
          "base_uri": "https://localhost:8080/",
          "height": 265
        },
        "outputId": "b39dc63b-d1fd-4312-863d-b40a66311459"
      },
      "source": [
        "# create the figure\n",
        "fig, ax = plt.subplots(1)\n",
        "ax.plot(x_min, y_min)\n",
        "ax.plot(x_min_poly2, y_min)\n",
        "ax.set_aspect(1)\n",
        "plt.show()"
      ],
      "execution_count": 8,
      "outputs": [
        {
          "output_type": "display_data",
          "data": {
            "image/png": "[encoded data removed]",
            "text/plain": [
              "<Figure size 432x288 with 1 Axes>"
            ]
          },
          "metadata": {
            "tags": [],
            "needs_background": "light"
          }
        }
      ]
    },
    {
      "cell_type": "markdown",
      "metadata": {
        "id": "AliilWrmo6vt",
        "colab_type": "text"
      },
      "source": [
        "# Straight & Curve"
      ]
    },
    {
      "cell_type": "code",
      "metadata": {
        "id": "BZs0LN7QpCRY",
        "colab_type": "code",
        "colab": {}
      },
      "source": [
        "x_SC = np.append(x_min, np.ones(10)*x_min[-1])\n",
        "y_SC = np.append(y_min, np.linspace(0,-0.5,10))\n",
        "\n",
        "coef = np.polyfit(y_SC, x_SC,2)\n",
        "x_SC_poly2 = coef[0]*y_SC**2 + coef[1]*y_SC+ coef[2]"
      ],
      "execution_count": 9,
      "outputs": []
    },
    {
      "cell_type": "code",
      "metadata": {
        "id": "_4opHKV0pyYE",
        "colab_type": "code",
        "colab": {
          "base_uri": "https://localhost:8080/",
          "height": 265
        },
        "outputId": "d7d8aca8-ee89-4587-f9dd-f93e52310dc2"
      },
      "source": [
        "# create the figure\n",
        "fig, ax = plt.subplots(1)\n",
        "ax.plot(x_SC[:-20], y_SC[:-20], 'b')\n",
        "ax.plot(x_SC_poly2, y_SC,'m')\n",
        "ax.set_aspect(1)\n",
        "plt.show()"
      ],
      "execution_count": 12,
      "outputs": [
        {
          "output_type": "display_data",
          "data": {
            "image/png": "[encoded data removed]",
            "text/plain": [
              "<Figure size 432x288 with 1 Axes>"
            ]
          },
          "metadata": {
            "tags": [],
            "needs_background": "light"
          }
        }
      ]
    },
    {
      "cell_type": "code",
      "metadata": {
        "id": "E3iq9TqKUXWB",
        "colab_type": "code",
        "colab": {}
      },
      "source": [
        ""
      ],
      "execution_count": null,
      "outputs": []
    }
  ]
}