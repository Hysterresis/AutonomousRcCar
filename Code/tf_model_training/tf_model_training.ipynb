{
  "nbformat": 4,
  "nbformat_minor": 0,
  "metadata": {
    "colab": {
      "name": "tf_model_training.ipynb",
      "provenance": [],
      "collapsed_sections": []
    },
    "kernelspec": {
      "name": "python3",
      "display_name": "Python 3"
    },
    "accelerator": "GPU"
  },
  "cells": [
    {
      "cell_type": "markdown",
      "metadata": {
        "id": "onwHkuI6_Ljp"
      },
      "source": [
        "# **Traffic sign detection, model learning**\n",
        "*By Maxime **Charrière**.*\n",
        "\n",
        "More infos, explications and links on the **GitHub** !\n",
        "\n",
        "\n",
        "This NoteBook can totaly be run on **GoogleColab**, try it so you don't have to install package !  \n",
        "\n",
        "<a href=\"https://colab.research.google.com/github/maximecharriere/AutonomousRcCar/blob/master/Code/tf_model_training/tf_model_training.ipynb\" target=\"_parent\"><img src=\"https://colab.research.google.com/assets/colab-badge.svg\" alt=\"Open In Colab\"/></a>\n",
        "<a href=\"https://github.com/maximecharriere/AutonomousRcCar\" target=\"_parent\"><img src=\"https://img.shields.io/badge/-GitHub%20page-blue?style=flat&logo=github&label=_\" alt=\"GitHub page\"/></a>"
      ]
    },
    {
      "cell_type": "markdown",
      "metadata": {
        "id": "hDUzt1XPfCwF"
      },
      "source": [
        "# Enable GPU acceleration\n",
        "Go to: \n",
        "`Edit > Notebook settings > Hardware accelerator > GPU`"
      ]
    },
    {
      "cell_type": "markdown",
      "metadata": {
        "id": "aAvBEg0XO31Z"
      },
      "source": [
        "# Import"
      ]
    },
    {
      "cell_type": "code",
      "metadata": {
        "id": "UxaJ77k3BUnn"
      },
      "source": [
        "%tensorflow_version 1.x\n",
        "import tensorflow as tf\n",
        "import os, sys\n",
        "import urllib.request\n",
        "import tarfile\n",
        "import numpy as np\n",
        "import re\n",
        "\n",
        "print(\"Libraries version:\")\n",
        "print(f\"Tensorflow: {tf.__version__}\")"
      ],
      "execution_count": null,
      "outputs": []
    },
    {
      "cell_type": "markdown",
      "metadata": {
        "id": "n7bI7aV_PA6M"
      },
      "source": [
        "#Configure Google Drive\n",
        "Usefull when working in Google Colab to save file"
      ]
    },
    {
      "cell_type": "code",
      "metadata": {
        "id": "VnHDj6NQVihL"
      },
      "source": [
        "SAVE_IN_DRIVE = True"
      ],
      "execution_count": null,
      "outputs": []
    },
    {
      "cell_type": "code",
      "metadata": {
        "id": "4dsPFLbVMX8O"
      },
      "source": [
        "# to save a backup of trained model\n",
        "# go to the URL, select your Google account and copy the code below\n",
        "if SAVE_IN_DRIVE:\n",
        "    from google.colab import drive\n",
        "    drive.mount('/content/gdrive')"
      ],
      "execution_count": null,
      "outputs": []
    },
    {
      "cell_type": "markdown",
      "metadata": {
        "id": "ZsRC2uBuayLO"
      },
      "source": [
        "# Get all files"
      ]
    },
    {
      "cell_type": "code",
      "metadata": {
        "id": "kAHqwvxec8X4"
      },
      "source": [
        "%cd /content"
      ],
      "execution_count": null,
      "outputs": []
    },
    {
      "cell_type": "markdown",
      "metadata": {
        "id": "wFeoHunVeeaY"
      },
      "source": [
        "## Load my Git repo"
      ]
    },
    {
      "cell_type": "code",
      "metadata": {
        "id": "VvzaTf9pBqoL"
      },
      "source": [
        "if not os.path.isdir(\"AutonomousRcCar\"):\n",
        "    !git clone https://github.com/maximecharriere/AutonomousRcCar.git"
      ],
      "execution_count": null,
      "outputs": []
    },
    {
      "cell_type": "code",
      "metadata": {
        "id": "RjkzqN5ZB4aC"
      },
      "source": [
        "# If we work with Google Drive, copy file from repo in GDrive\n",
        "\n",
        "if SAVE_IN_DRIVE:\n",
        "    model_training_dir_path = \"/content/gdrive/My Drive/Colab Notebooks/ModelTraining_backup\"\n",
        "    !cp -avr \"/content/AutonomousRcCar/autonomouscar/tf_model_training/.\" \"{model_training_dir_path}\"\n",
        "else:\n",
        "    model_training_dir_path = \"/content/AutonomousRcCar/autonomouscar/tf_model_training\""
      ],
      "execution_count": null,
      "outputs": []
    },
    {
      "cell_type": "markdown",
      "metadata": {
        "id": "06WHJQt9PecP"
      },
      "source": [
        "## Load Tensorflow repo"
      ]
    },
    {
      "cell_type": "code",
      "metadata": {
        "id": "yCLmg4uccW1Z"
      },
      "source": [
        "if not os.path.isdir(\"models\"):\n",
        "    !git clone https://github.com/tensorflow/models.git\n",
        "\n",
        "# Take an old version, current version don't work\n",
        "%cd /content/models\n",
        "!git checkout 36e786dc77c099fddc6c5c0f6826ce96730d3988"
      ],
      "execution_count": null,
      "outputs": []
    },
    {
      "cell_type": "markdown",
      "metadata": {
        "id": "pkJRUGdIeRIC"
      },
      "source": [
        "## Load pre-trained model"
      ]
    },
    {
      "cell_type": "markdown",
      "metadata": {
        "id": "UBNntXPPXsH5"
      },
      "source": [
        "Choose a tensorflow model:\n",
        "- [All object detection models](https://github.com/tensorflow/models/blob/master/research/object_detection/g3doc/detection_model_zoo.md#coco-trained-models)\n",
        "- [Models compatible with Coral Edge TPU](https://coral.ai/models/)"
      ]
    },
    {
      "cell_type": "code",
      "metadata": {
        "id": "v3JBTk3Belj9"
      },
      "source": [
        "%cd /content\n",
        "model_name = 'ssd_mobilenet_v2_quantized_300x300_coco_2019_01_03'\n",
        "\n",
        "if not os.path.isdir(model_name):\n",
        "    base_url = 'http://download.tensorflow.org/models/object_detection/'\n",
        "    model_file = model_name + '.tar.gz'\n",
        "    urllib.request.urlretrieve(base_url + model_file, model_file)\n",
        "    with tarfile.open(model_file) as tar:\n",
        "        tar.extractall()\n",
        "    os.remove(model_file)\n"
      ],
      "execution_count": null,
      "outputs": []
    },
    {
      "cell_type": "code",
      "metadata": {
        "id": "Tv2A4HA5u7ux"
      },
      "source": [
        "base_model_checkpoint = os.path.join(\"/content\", model_name, \"model.ckpt\")"
      ],
      "execution_count": null,
      "outputs": []
    },
    {
      "cell_type": "markdown",
      "metadata": {
        "id": "2ZIhxcJxbfTq"
      },
      "source": [
        "# Install the Tensorflow Object Detection API\n",
        "It's necessary in the next scripts\n",
        "https://github.com/tensorflow/models/tree/master/research/object_detection"
      ]
    },
    {
      "cell_type": "code",
      "metadata": {
        "id": "2-GJ70Yq8gxt"
      },
      "source": [
        "!apt-get install -qq protobuf-compiler python-pil python-lxml python-tk\n",
        "!pip install -q Cython contextlib2 pillow lxml matplotlib\n",
        "!pip install -q pycocotools\n",
        "!pip install -q tf_slim\n",
        "\n",
        "%cd /content/models/research\n",
        "!protoc object_detection/protos/*.proto --python_out=.\n",
        "\n",
        "os.environ['PYTHONPATH'] += ':/content/models/research/:/content/models/research/slim/'"
      ],
      "execution_count": null,
      "outputs": []
    },
    {
      "cell_type": "code",
      "metadata": {
        "id": "48seY7GHch7F"
      },
      "source": [
        "#Test if the API is well installed\n",
        "!python object_detection/builders/model_builder_tf1_test.py"
      ],
      "execution_count": null,
      "outputs": []
    },
    {
      "cell_type": "markdown",
      "metadata": {
        "id": "dlm4vFbRTILH"
      },
      "source": [
        "# Install Edge TPU Compiller"
      ]
    },
    {
      "cell_type": "code",
      "metadata": {
        "id": "CqXm2csSTNMB"
      },
      "source": [
        "!curl https://packages.cloud.google.com/apt/doc/apt-key.gpg | sudo apt-key add -\n",
        "!echo \"deb https://packages.cloud.google.com/apt coral-edgetpu-stable main\" | sudo tee /etc/apt/sources.list.d/coral-edgetpu.list\n",
        "!sudo apt-get update\n",
        "!sudo apt-get install edgetpu-compiler"
      ],
      "execution_count": null,
      "outputs": []
    },
    {
      "cell_type": "markdown",
      "metadata": {
        "id": "jV7Fa-clwEK9"
      },
      "source": [
        "# Generate `tfrecord` files"
      ]
    },
    {
      "cell_type": "code",
      "metadata": {
        "id": "qBNu4Vzufyri"
      },
      "source": [
        "%cd {model_training_dir_path}"
      ],
      "execution_count": null,
      "outputs": []
    },
    {
      "cell_type": "code",
      "metadata": {
        "id": "Ap5t8m47gGmJ"
      },
      "source": [
        "#Partition data between test and train set\n",
        "if not os.path.isdir(\"training/images/test\") or not os.path.isdir(\"training/images/train\"):\n",
        "    !python3 scripts/partition_dataset.py -i training/images/all -o training/images --ratio 0.1 --xml --seed 43"
      ],
      "execution_count": null,
      "outputs": []
    },
    {
      "cell_type": "code",
      "metadata": {
        "id": "ihBKBJYtXEAd"
      },
      "source": [
        "# Convert train folder annotation xml files to a single csv file,\n",
        "# generate the `label_map.pbtxt` file to `data/` directory as well.\n",
        "if not os.path.isfile(\"training/annotations/train_labels.csv\"):\n",
        "    !python3 scripts/xml_to_csv.py -i training/images/train -o training/annotations/train_labels.csv -l training/annotations\n",
        "\n",
        "# Convert test folder annotation xml files to a single csv.\n",
        "if not os.path.isfile(\"training/annotations/test_labels.csv\"):\n",
        "    !python3 scripts/xml_to_csv.py -i training/images/test -o training/annotations/test_labels.csv"
      ],
      "execution_count": null,
      "outputs": []
    },
    {
      "cell_type": "code",
      "metadata": {
        "id": "Db3Way4el05W"
      },
      "source": [
        "# Generate `train.record`\n",
        "if not os.path.isfile(\"training/annotations/train.record\"):\n",
        "    !python scripts/generate_tfrecord_tf2.py --csv_input=training/annotations/train_labels.csv --output_path=training/annotations/train.record --img_path=training/images/train --label_map training/annotations/label_map.pbtxt\n",
        "\n",
        "# Generate `test.record`\n",
        "if not os.path.isfile(\"training/annotations/test.record\"):\n",
        "    !python scripts/generate_tfrecord_tf2.py --csv_input=training/annotations/test_labels.csv --output_path=training/annotations/test.record --img_path=training/images/test --label_map training/annotations/label_map.pbtxt\n"
      ],
      "execution_count": null,
      "outputs": []
    },
    {
      "cell_type": "markdown",
      "metadata": {
        "id": "RTeoGOvUxHc8"
      },
      "source": [
        "# Configuring the Training `pipeline.conf`"
      ]
    },
    {
      "cell_type": "code",
      "metadata": {
        "id": "zeCZ-HyF_aHj"
      },
      "source": [
        "def get_num_classes(pbtxt_fname):\n",
        "    import sys\n",
        "\n",
        "    sys.path.append(\"/content/models/research/\")\n",
        "    from object_detection.utils import label_map_util\n",
        "    label_map = label_map_util.load_labelmap(pbtxt_fname)\n",
        "    categories = label_map_util.convert_label_map_to_categories(\n",
        "        label_map, max_num_classes=90, use_display_name=True)\n",
        "    category_index = label_map_util.create_category_index(categories)\n",
        "    return len(category_index.keys())"
      ],
      "execution_count": null,
      "outputs": []
    },
    {
      "cell_type": "code",
      "metadata": {
        "id": "vIkQnXxF_1Gw"
      },
      "source": [
        "%cd {model_training_dir_path}\n",
        "test_record_fname = model_training_dir_path + '/training/annotations/test.record'\n",
        "train_record_fname = model_training_dir_path + '/training/annotations/train.record'\n",
        "label_map_pbtxt_fname = model_training_dir_path + '/training/annotations/label_map.pbtxt'\n",
        "batch_size = 12\n",
        "num_steps = 10000\n",
        "trainset_size = len([name for name in os.listdir('training/images/train') if name.endswith((\".png\",\".jpg\",\".jpeg\"))])\n",
        "num_classes = get_num_classes(label_map_pbtxt_fname)\n",
        "ssd_anchor_generator = '''{\n",
        "        num_layers: 6\n",
        "        min_scale: 0.04\n",
        "        max_scale: 0.4\n",
        "        aspect_ratios: 1.0\n",
        "        aspect_ratios: 0.5\n",
        "        aspect_ratios: 0.3333\n",
        "      }'''\n",
        "\n",
        "#   include_metrics_per_category : true\n",
        "\n",
        "eval_config = f'''{{\n",
        "  num_examples: {trainset_size}\n",
        "  metrics_set: \"coco_detection_metrics\"\n",
        "}}'''"
      ],
      "execution_count": null,
      "outputs": []
    },
    {
      "cell_type": "code",
      "metadata": {
        "id": "DwJiSOfNyvCd"
      },
      "source": [
        "%cd /content\n",
        "base_pipeline_fname = '/content/models/research/object_detection/samples/configs/ssd_mobilenet_v2_quantized_300x300_coco.config' #os.path.join('/content', model_name, 'pipeline.config')\n",
        "assert os.path.isfile(base_pipeline_fname), f'`{base_pipeline_fname}` not exist'"
      ],
      "execution_count": null,
      "outputs": []
    },
    {
      "cell_type": "code",
      "metadata": {
        "id": "GCSCLb26DscY"
      },
      "source": [
        "trained_model_path = os.path.join(model_training_dir_path, \"training/model\")\n",
        "if not os.path.isdir(trained_model_path):\n",
        "    os.makedirs(trained_model_path)"
      ],
      "execution_count": null,
      "outputs": []
    },
    {
      "cell_type": "code",
      "metadata": {
        "id": "FN7olYSHH2kk"
      },
      "source": [
        "dest_pipeline_fname = os.path.join(trained_model_path, \"pipeline.config\")"
      ],
      "execution_count": null,
      "outputs": []
    },
    {
      "cell_type": "code",
      "metadata": {
        "id": "Z86cWVBbGfVK"
      },
      "source": [
        "print(base_pipeline_fname)\n",
        "print(dest_pipeline_fname)"
      ],
      "execution_count": null,
      "outputs": []
    },
    {
      "cell_type": "code",
      "metadata": {
        "id": "RyG2zZUJ_J-N"
      },
      "source": [
        "with open(base_pipeline_fname) as f:\n",
        "    s = f.read()\n",
        "with open(dest_pipeline_fname, 'w') as f:\n",
        "    \n",
        "    # fine_tune_checkpoint\n",
        "    s = re.sub('fine_tune_checkpoint: \".*?\"',\n",
        "               f'fine_tune_checkpoint: \"{base_model_checkpoint}\"', s)\n",
        "    \n",
        "    # tfrecord files train and test.\n",
        "    s = re.sub(\n",
        "        '(input_path: \".*?)(train.record)(.*?\")', f'input_path: \"{train_record_fname}\"', s)\n",
        "    s = re.sub(\n",
        "        '(input_path: \".*?)(val.record)(.*?\")', f'input_path: \"{test_record_fname}\"', s)\n",
        "\n",
        "    # label_map_path\n",
        "    s = re.sub(\n",
        "        'label_map_path: \".*?\"', f'label_map_path: \"{label_map_pbtxt_fname}\"', s)\n",
        "\n",
        "    # Set training batch_size.\n",
        "    s = re.sub('batch_size: [0-9]+',\n",
        "               f'batch_size: {batch_size}', s)\n",
        "    \n",
        "    # Set training steps, num_steps\n",
        "    s = re.sub('num_steps: [0-9]+',\n",
        "               f'num_steps: {num_steps}', s)\n",
        "    \n",
        "    # Set number of classes num_classes.\n",
        "    s = re.sub('num_classes: [0-9]+',\n",
        "               f'num_classes: {num_classes}', s)\n",
        "\n",
        "    # Set anchors.\n",
        "    s = re.sub('ssd_anchor_generator \\{.*?\\}',\n",
        "               f'ssd_anchor_generator {ssd_anchor_generator}', s, flags = re.DOTALL)\n",
        "    \n",
        "    # Set eval config.\n",
        "    # s = re.sub('eval_config: \\{.*?\\}',\n",
        "    #            f'eval_config {eval_config}', s, flags = re.DOTALL)\n",
        "\n",
        "    # # Modify deprecated parameter.\n",
        "    s = re.sub('max_evals: 10', '', s)\n",
        "\n",
        "    f.write(s)"
      ],
      "execution_count": null,
      "outputs": []
    },
    {
      "cell_type": "code",
      "metadata": {
        "id": "68Izam0f9BAK"
      },
      "source": [
        "!cat \"{dest_pipeline_fname}\" 2>&1 | tee  \"{trained_model_path}/training_log_tensorflow.txt\""
      ],
      "execution_count": null,
      "outputs": []
    },
    {
      "cell_type": "markdown",
      "metadata": {
        "id": "R2gMX9Ld2WN1"
      },
      "source": [
        "# Start TensorBoard for monitoring"
      ]
    },
    {
      "cell_type": "code",
      "metadata": {
        "id": "ApFMxhIgrJK1"
      },
      "source": [
        "%load_ext tensorboard\n",
        "%tensorboard --logdir \"/content/gdrive/My Drive/Colab Notebooks/ModelTraining_backup/training/model\""
      ],
      "execution_count": null,
      "outputs": []
    },
    {
      "cell_type": "markdown",
      "metadata": {
        "id": "y9JRX_aLBB8E"
      },
      "source": [
        "# Train the model"
      ]
    },
    {
      "cell_type": "code",
      "metadata": {
        "id": "ATU7bTsU3Ru_"
      },
      "source": [
        "training_time  = %timeit -r 1 -n 1 -o !python /content/models/research/object_detection/model_main.py \\\n",
        "  --model_dir='{trained_model_path}' \\\n",
        "  --pipeline_config_path='{dest_pipeline_fname}' \\\n",
        "  --alsologtostderr \\\n",
        "  2>&1 | tee '{trained_model_path}/training_log_tensorflow.txt'"
      ],
      "execution_count": null,
      "outputs": []
    },
    {
      "cell_type": "code",
      "metadata": {
        "id": "2-G8IFYcASN4"
      },
      "source": [
        "#save training time in file so we can leave the Notebook during training\n",
        "with open(f\"{trained_model_path}/training_time.txt\", 'w') as fd:\n",
        "    fd.write(str(training_time.best))"
      ],
      "execution_count": null,
      "outputs": []
    },
    {
      "cell_type": "code",
      "metadata": {
        "id": "NydRfd30C1xE"
      },
      "source": [
        "# find the last model checkpoint file, i.e. model.ckpt-1000\n",
        "\n",
        "lst = os.listdir(trained_model_path)\n",
        "lst = [l for l in lst if 'model.ckpt-' in l and '.meta' in l]\n",
        "steps=np.array([int(re.findall('\\d+', l)[0]) for l in lst])\n",
        "last_model = lst[steps.argmax()].replace('.meta', '')\n",
        "\n",
        "last_chekpoint = os.path.join(trained_model_path, last_model)\n",
        "print(last_chekpoint)"
      ],
      "execution_count": null,
      "outputs": []
    },
    {
      "cell_type": "code",
      "metadata": {
        "id": "t1MN8NuaKHj4"
      },
      "source": [
        "# Freeze the model in default format\n",
        "\n",
        "!python /content/models/research/object_detection/export_inference_graph.py \\\n",
        "    --input_type=image_tensor \\\n",
        "    --pipeline_config_path='{dest_pipeline_fname}' \\\n",
        "    --output_directory='{trained_model_path}' \\\n",
        "    --trained_checkpoint_prefix='{last_chekpoint}'"
      ],
      "execution_count": null,
      "outputs": []
    },
    {
      "cell_type": "code",
      "metadata": {
        "id": "l7-Kl9vtt_Ks"
      },
      "source": [
        "# create the tensorflow lite graph\n",
        "!python /content/models/research/object_detection/export_tflite_ssd_graph.py \\\n",
        "    --pipeline_config_path='{dest_pipeline_fname}' \\\n",
        "    --trained_checkpoint_prefix='{last_chekpoint}' \\\n",
        "    --output_directory='{trained_model_path}' \\\n",
        "    --add_postprocessing_op=true"
      ],
      "execution_count": null,
      "outputs": []
    },
    {
      "cell_type": "code",
      "metadata": {
        "id": "Bn5FrVtAxlwV"
      },
      "source": [
        "#Quantize the graph\n",
        "!tflite_convert \\\n",
        "  --output_file='{trained_model_path}/model_quantized.tflite' \\\n",
        "  --graph_def_file='{trained_model_path}/tflite_graph.pb' \\\n",
        "  --inference_type=QUANTIZED_UINT8 \\\n",
        "  --input_arrays='normalized_input_image_tensor' \\\n",
        "  --output_arrays='TFLite_Detection_PostProcess,TFLite_Detection_PostProcess:1,TFLite_Detection_PostProcess:2,TFLite_Detection_PostProcess:3' \\\n",
        "  --mean_values=128 \\\n",
        "  --std_dev_values=128 \\\n",
        "  --input_shapes=1,300,300,3 \\\n",
        "  --change_concat_input_ranges=false \\\n",
        "  --allow_nudging_weights_to_use_fast_gemm_kernel=true \\\n",
        "  --allow_custom_ops"
      ],
      "execution_count": null,
      "outputs": []
    },
    {
      "cell_type": "markdown",
      "metadata": {
        "id": "ekFFeIewT7nH"
      },
      "source": [
        "# Convert model to be compatible with Edge TPU"
      ]
    },
    {
      "cell_type": "code",
      "metadata": {
        "id": "k9q26exSPMQH"
      },
      "source": [
        "!edgetpu_compiler -o '{trained_model_path}' '{trained_model_path}/model_quantized.tflite'"
      ],
      "execution_count": null,
      "outputs": []
    },
    {
      "cell_type": "markdown",
      "metadata": {
        "id": "4Km4wu3BSHep"
      },
      "source": [
        "#Test the model"
      ]
    },
    {
      "cell_type": "code",
      "metadata": {
        "id": "kKfSwN4ERdLZ"
      },
      "source": [
        "import os\n",
        "import glob\n",
        "pb_fname = os.path.join(model_training_dir_path, 'training/model/frozen_inference_graph.pb')\n",
        "# Path to frozen detection graph. This is the actual model that is used for the object detection.\n",
        "PATH_TO_CKPT = pb_fname\n",
        "print(PATH_TO_CKPT)\n",
        "\n",
        "# List of the strings that is used to add correct label for each box.\n",
        "PATH_TO_LABELS = label_map_pbtxt_fname\n",
        "\n",
        "# If you want to test the code with your images, just add images files to the PATH_TO_TEST_IMAGES_DIR.\n",
        "PATH_TO_TEST_IMAGES_DIR =  os.path.join(model_training_dir_path, 'training/images/test')\n",
        "\n",
        "assert os.path.isfile(pb_fname)\n",
        "assert os.path.isfile(PATH_TO_LABELS)\n",
        "TEST_IMAGE_PATHS = glob.glob(os.path.join(PATH_TO_TEST_IMAGES_DIR, \"*.jpg\"))\n",
        "assert len(TEST_IMAGE_PATHS) > 0, 'No image found in `{}`.'.format(PATH_TO_TEST_IMAGES_DIR)\n",
        "print(TEST_IMAGE_PATHS)\n",
        "\n",
        "\n",
        "\n",
        "\n",
        "#_______________________________________________________________________________\n",
        "\n",
        "\n",
        "\n",
        "%cd /content/models/research/object_detection\n",
        "\n",
        "import numpy as np\n",
        "import os\n",
        "import six.moves.urllib as urllib\n",
        "import sys\n",
        "import tarfile\n",
        "import tensorflow as tf\n",
        "import zipfile\n",
        "\n",
        "from collections import defaultdict\n",
        "from io import StringIO\n",
        "from matplotlib import pyplot as plt\n",
        "from PIL import Image\n",
        "\n",
        "# This is needed since the notebook is stored in the object_detection folder.\n",
        "sys.path.append(\"..\")\n",
        "from object_detection.utils import ops as utils_ops\n",
        "\n",
        "\n",
        "# This is needed to display the images.\n",
        "%matplotlib inline\n",
        "\n",
        "\n",
        "from object_detection.utils import label_map_util\n",
        "\n",
        "from object_detection.utils import visualization_utils as vis_util\n",
        "\n",
        "\n",
        "detection_graph = tf.Graph()\n",
        "with detection_graph.as_default():\n",
        "    od_graph_def = tf.GraphDef()\n",
        "    with tf.gfile.GFile(PATH_TO_CKPT, 'rb') as fid:\n",
        "        serialized_graph = fid.read()\n",
        "        od_graph_def.ParseFromString(serialized_graph)\n",
        "        tf.import_graph_def(od_graph_def, name='')\n",
        "\n",
        "\n",
        "label_map = label_map_util.load_labelmap(PATH_TO_LABELS)\n",
        "categories = label_map_util.convert_label_map_to_categories(\n",
        "    label_map, max_num_classes=num_classes, use_display_name=True)\n",
        "category_index = label_map_util.create_category_index(categories)\n",
        "\n",
        "\n",
        "def load_image_into_numpy_array(image):\n",
        "    (im_width, im_height) = image.size\n",
        "    return np.array(image.getdata()).reshape(\n",
        "        (im_height, im_width, 3)).astype(np.uint8)\n",
        "\n",
        "# Size, in inches, of the output images.\n",
        "IMAGE_SIZE = (12, 8)\n",
        "\n",
        "\n",
        "def run_inference_for_single_image(image, graph):\n",
        "    with graph.as_default():\n",
        "        with tf.Session() as sess:\n",
        "            # Get handles to input and output tensors\n",
        "            ops = tf.get_default_graph().get_operations()\n",
        "            all_tensor_names = {\n",
        "                output.name for op in ops for output in op.outputs}\n",
        "            tensor_dict = {}\n",
        "            for key in [\n",
        "                'num_detections', 'detection_boxes', 'detection_scores',\n",
        "                'detection_classes', 'detection_masks'\n",
        "            ]:\n",
        "                tensor_name = key + ':0'\n",
        "                if tensor_name in all_tensor_names:\n",
        "                    tensor_dict[key] = tf.get_default_graph().get_tensor_by_name(\n",
        "                        tensor_name)\n",
        "            if 'detection_masks' in tensor_dict:\n",
        "                # The following processing is only for single image\n",
        "                detection_boxes = tf.squeeze(\n",
        "                    tensor_dict['detection_boxes'], [0])\n",
        "                detection_masks = tf.squeeze(\n",
        "                    tensor_dict['detection_masks'], [0])\n",
        "                # Reframe is required to translate mask from box coordinates to image coordinates and fit the image size.\n",
        "                real_num_detection = tf.cast(\n",
        "                    tensor_dict['num_detections'][0], tf.int32)\n",
        "                detection_boxes = tf.slice(detection_boxes, [0, 0], [\n",
        "                                           real_num_detection, -1])\n",
        "                detection_masks = tf.slice(detection_masks, [0, 0, 0], [\n",
        "                                           real_num_detection, -1, -1])\n",
        "                detection_masks_reframed = utils_ops.reframe_box_masks_to_image_masks(\n",
        "                    detection_masks, detection_boxes, image.shape[0], image.shape[1])\n",
        "                detection_masks_reframed = tf.cast(\n",
        "                    tf.greater(detection_masks_reframed, 0.5), tf.uint8)\n",
        "                # Follow the convention by adding back the batch dimension\n",
        "                tensor_dict['detection_masks'] = tf.expand_dims(\n",
        "                    detection_masks_reframed, 0)\n",
        "            image_tensor = tf.get_default_graph().get_tensor_by_name('image_tensor:0')\n",
        "\n",
        "            # Run inference\n",
        "            output_dict = sess.run(tensor_dict,\n",
        "                                   feed_dict={image_tensor: np.expand_dims(image, 0)})\n",
        "\n",
        "            # all outputs are float32 numpy arrays, so convert types as appropriate\n",
        "            output_dict['num_detections'] = int(\n",
        "                output_dict['num_detections'][0])\n",
        "            output_dict['detection_classes'] = output_dict[\n",
        "                'detection_classes'][0].astype(np.uint8)\n",
        "            output_dict['detection_boxes'] = output_dict['detection_boxes'][0]\n",
        "            output_dict['detection_scores'] = output_dict['detection_scores'][0]\n",
        "            if 'detection_masks' in output_dict:\n",
        "                output_dict['detection_masks'] = output_dict['detection_masks'][0]\n",
        "    return output_dict\n",
        "\n",
        "\n",
        "#_______________________________________________________________________________\n",
        "\n",
        "\n",
        "\n",
        "# running inferences.  This should show images with bounding boxes\n",
        "%matplotlib inline\n",
        "\n",
        "print('Running inferences on %s' % TEST_IMAGE_PATHS)\n",
        "for image_path in TEST_IMAGE_PATHS:\n",
        "    image = Image.open(image_path)\n",
        "    # the array based representation of the image will be used later in order to prepare the\n",
        "    # result image with boxes and labels on it.\n",
        "    image_np = load_image_into_numpy_array(image)\n",
        "    # Expand dimensions since the model expects images to have shape: [1, None, None, 3]\n",
        "    image_np_expanded = np.expand_dims(image_np, axis=0)\n",
        "    # Actual detection.\n",
        "    output_dict = run_inference_for_single_image(image_np, detection_graph)\n",
        "    # Visualization of the results of a detection.\n",
        "    vis_util.visualize_boxes_and_labels_on_image_array(\n",
        "        image_np,\n",
        "        output_dict['detection_boxes'],\n",
        "        output_dict['detection_classes'],\n",
        "        output_dict['detection_scores'],\n",
        "        category_index,\n",
        "        instance_masks=output_dict.get('detection_masks'),\n",
        "        use_normalized_coordinates=True,\n",
        "        line_thickness=2)\n",
        "    plt.figure(figsize=IMAGE_SIZE)\n",
        "    plt.imshow(image_np)"
      ],
      "execution_count": null,
      "outputs": []
    },
    {
      "cell_type": "code",
      "metadata": {
        "id": "_wlPkjdVvfb2"
      },
      "source": [
        ""
      ],
      "execution_count": null,
      "outputs": []
    }
  ]
}